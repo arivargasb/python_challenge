{
 "cells": [
  {
   "cell_type": "code",
   "execution_count": 1,
   "metadata": {
    "scrolled": true
   },
   "outputs": [
    {
     "name": "stdout",
     "output_type": "stream",
     "text": [
      "What video are you looking for? asdf\n",
      "The movie can't be found\n"
     ]
    }
   ],
   "source": [
    "import csv\n",
    "\n",
    "search = input(\"What video are you looking for? \")\n",
    "\n",
    "f = \"netflix_ratings.csv\"\n",
    "\n",
    "found = False\n",
    "\n",
    "with open(f, 'r', newline='') as file:\n",
    "    read = csv.reader(file, delimiter=',')\n",
    "    next(read)\n",
    "    for v in read:\n",
    "        if search.lower() == v[0].lower():\n",
    "            print(f\"{v[0]} is rated {v[1]} with a rating {v[5]}\")\n",
    "            found = True\n",
    "            break\n",
    "\n",
    "if found == False:\n",
    "    print(\"The movie can't be found\")\n"
   ]
  },
  {
   "cell_type": "code",
   "execution_count": 2,
   "metadata": {},
   "outputs": [
    {
     "name": "stdout",
     "output_type": "stream",
     "text": [
      "netflix_ratings.csv\n"
     ]
    }
   ],
   "source": [
    "# Imports the neccessary libraries\n",
    "import csv\n",
    "import os\n",
    "\n",
    "f = os.path.join(\"netflix_ratings.csv\")\n",
    "print(f)\n",
    "\n",
    "found = False\n"
   ]
  },
  {
   "cell_type": "code",
   "execution_count": 3,
   "metadata": {},
   "outputs": [
    {
     "name": "stdout",
     "output_type": "stream",
     "text": [
      "What video are you looking for? asdf\n"
     ]
    },
    {
     "data": {
      "text/plain": [
       "'asdf'"
      ]
     },
     "execution_count": 3,
     "metadata": {},
     "output_type": "execute_result"
    }
   ],
   "source": [
    "search = input(\"What video are you looking for? \")\n",
    "search"
   ]
  },
  {
   "cell_type": "code",
   "execution_count": 4,
   "metadata": {},
   "outputs": [],
   "source": [
    "with open(f, 'r', newline='') as file:\n",
    "    read = csv.reader(file, delimiter=',')\n",
    "    next(read)\n",
    "    for v in read:\n",
    "        if search.lower() == v[0].lower():\n",
    "            print(f\"{v[0]} is rated {v[1]} with a rating {v[5]}\")\n",
    "            found = True\n",
    "            break"
   ]
  },
  {
   "cell_type": "code",
   "execution_count": 5,
   "metadata": {},
   "outputs": [
    {
     "name": "stdout",
     "output_type": "stream",
     "text": [
      "The movie can't be found\n"
     ]
    }
   ],
   "source": [
    "if found == False:\n",
    "    print(\"The movie can't be found\")"
   ]
  },
  {
   "cell_type": "code",
   "execution_count": null,
   "metadata": {},
   "outputs": [],
   "source": []
  }
 ],
 "metadata": {
  "kernelspec": {
   "display_name": "Python 3",
   "language": "python",
   "name": "python3"
  },
  "language_info": {
   "codemirror_mode": {
    "name": "ipython",
    "version": 3
   },
   "file_extension": ".py",
   "mimetype": "text/x-python",
   "name": "python",
   "nbconvert_exporter": "python",
   "pygments_lexer": "ipython3",
   "version": "3.6.8"
  }
 },
 "nbformat": 4,
 "nbformat_minor": 2
}
